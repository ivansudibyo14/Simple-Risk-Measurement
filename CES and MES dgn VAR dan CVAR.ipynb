import numpy as np

#Bobot portofolio
portfolio_weights = np.array([0.2, 0.3, 0.5])

#Sensitivitas aset terhadap faktor risiko
risk_factor_sensitivities = np.array([[0.01, 0.02, 0.03], [0.04, 0.05, 0.06], [0.07, 0.08, 0.09]])

#Hitung CES
CES = np.dot(risk_factor_sensitivities, portfolio_weights)

#Hitung MES
MES = CES[1:] - CES[:-1]

#Hitung VaR
VaR = np.dot(CES, portfolio_weights)

#Hitung CVaR
CVaR = np.dot(MES, portfolio_weights[1:])

print("VaR:", VaR)
print("CVaR:", CVaR)
##
To calculate the Value-at-Risk (VaR) and Conditional Value-at-Risk (CVaR) of a portfolio using the CES and MES method, we need to follow a few steps:
Determine the portfolio weights for each asset. This can be done by specifying the percentage of the total portfolio value invested in each asset.

Calculate the sensitivities of each asset to risk factors. This can be done using a correlation matrix between assets and risk factors.

Calculate the CES (Component Expected Shortfall) for each asset by multiplying the asset's sensitivities to risk factors with the portfolio weights.

Calculate the MES (Marginal Expected Shortfall) by subtracting the previous asset's CES from the asset's CES after the portfolio weight has been changed.

Calculate the VaR by subtracting the sum of the CES of each asset multiplied by their respective portfolio weights from the value of the portfolio.

Calculate the CVaR by summing the MES of each asset multiplied by their respective portfolio weights.
